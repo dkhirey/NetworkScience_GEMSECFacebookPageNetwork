{
 "cells": [
  {
   "cell_type": "markdown",
   "metadata": {},
   "source": [
    "# Identifying most prominent nodes in social network for Information Diffusion by Weak Nodes approach\n",
    "\n",
    "## Deepak Khirey\n",
    "### Network Science, Indiana Unversity, Bloomington, Spring 2019"
   ]
  },
  {
   "cell_type": "code",
   "execution_count": 2,
   "metadata": {
    "ExecuteTime": {
     "end_time": "2019-05-01T19:26:19.854752Z",
     "start_time": "2019-05-01T19:26:11.613057Z"
    }
   },
   "outputs": [],
   "source": [
    "# importing required package and libraries\n",
    "\n",
    "import networkx as nx\n",
    "import community\n",
    "import networkx as nx\n",
    "import random\n",
    "import time\n",
    "import datetime\n",
    "import io\n",
    "import array,re,itertools\n",
    "import numpy as np\n",
    "import pandas as pd\n",
    "import sampling\n",
    "import scipy.stats as stats\n",
    "from heapq import nlargest\n",
    "import matplotlib.pyplot as plt\n",
    "%matplotlib inline"
   ]
  },
  {
   "cell_type": "code",
   "execution_count": 3,
   "metadata": {
    "ExecuteTime": {
     "end_time": "2019-05-01T19:26:20.281985Z",
     "start_time": "2019-05-01T19:26:19.859012Z"
    }
   },
   "outputs": [],
   "source": [
    "# Reading input graph TVShows\n",
    "tvshows=nx.read_graphml('tvshows.graphml')"
   ]
  },
  {
   "cell_type": "code",
   "execution_count": 4,
   "metadata": {
    "ExecuteTime": {
     "end_time": "2019-05-01T19:26:20.293484Z",
     "start_time": "2019-05-01T19:26:20.285461Z"
    }
   },
   "outputs": [
    {
     "name": "stdout",
     "output_type": "stream",
     "text": [
      "Name: \n",
      "Type: Graph\n",
      "Number of nodes: 3892\n",
      "Number of edges: 17239\n",
      "Average degree:   8.8587\n"
     ]
    }
   ],
   "source": [
    "print(nx.info(tvshows))"
   ]
  },
  {
   "cell_type": "code",
   "execution_count": 5,
   "metadata": {
    "ExecuteTime": {
     "end_time": "2019-05-01T19:26:20.309495Z",
     "start_time": "2019-05-01T19:26:20.296491Z"
    }
   },
   "outputs": [],
   "source": [
    "# Method to get sample from input graph.\n",
    "# I am using snowball sampling method.\n",
    "# Returns sample of the graph\n",
    "\n",
    "def getsample(G,n=100):\n",
    "    snwbl = sampling.Snowball()\n",
    "    sample = snwbl.snowball(G,n,5)\n",
    "    return sample"
   ]
  },
  {
   "cell_type": "code",
   "execution_count": 6,
   "metadata": {
    "ExecuteTime": {
     "end_time": "2019-05-01T19:26:20.325504Z",
     "start_time": "2019-05-01T19:26:20.313476Z"
    }
   },
   "outputs": [],
   "source": [
    "# Method to generate CCDF plot for input graph\n",
    "# This will show scale free properties in the graph, if present\n",
    "\n",
    "def ccdf(data):\n",
    "    ## Function referrence - https://stackoverflow.com/questions/24575869/read-file-and-plot-cdf-in-python\n",
    "    data_size=len(data)\n",
    "\n",
    "    # Set bins edges\n",
    "    data_set=sorted(set(data))\n",
    "    bins=np.append(data_set, data_set[-1]+1)\n",
    "\n",
    "    # Use the histogram function to bin the data\n",
    "    counts, bin_edges = np.histogram(data, bins=bins, density=False)\n",
    "\n",
    "    counts=counts.astype(float)/data_size\n",
    "\n",
    "    # Find the cdf\n",
    "    cdf = np.cumsum(counts)\n",
    "    ccdf = 1 - cdf\n",
    "\n",
    "    # Plot the cdf\n",
    "    plt.loglog(bin_edges[0:-1], ccdf,linestyle='--', marker=\"o\", color='b')\n",
    "    plt.ylim((0,1))\n",
    "    plt.ylabel(\"CCDF\")\n",
    "    plt.grid(True)\n",
    "\n",
    "    plt.show()"
   ]
  },
  {
   "cell_type": "code",
   "execution_count": 7,
   "metadata": {
    "ExecuteTime": {
     "end_time": "2019-05-01T19:26:20.342550Z",
     "start_time": "2019-05-01T19:26:20.329519Z"
    }
   },
   "outputs": [],
   "source": [
    "# Method to detect community structure in the input graph\n",
    "# I am using Modularity approach here \n",
    "# r : Resolution to be used for Modularity\n",
    "# Returns partitions of the graph\n",
    "\n",
    "def getcommunities (G,r):\n",
    "    part = community.best_partition(G,resolution=r,randomize=True)\n",
    "    mod = community.modularity(part,G)\n",
    "    nx.set_node_attributes(G,part, \"Modularity Class\")\n",
    "    return part"
   ]
  },
  {
   "cell_type": "code",
   "execution_count": 8,
   "metadata": {
    "ExecuteTime": {
     "end_time": "2019-05-01T19:26:20.359596Z",
     "start_time": "2019-05-01T19:26:20.345558Z"
    }
   },
   "outputs": [],
   "source": [
    "# Method to calculate Betweenness centrality for th input graph\n",
    "# Returns array with nodes and their corresponding betweenness values\n",
    "\n",
    "def getcentrality(G):\n",
    "    betweenness = nx.betweenness_centrality(G)\n",
    "    nx.set_node_attributes(G,betweenness, \"Betweenness\")\n",
    "    return betweenness"
   ]
  },
  {
   "cell_type": "code",
   "execution_count": 9,
   "metadata": {
    "ExecuteTime": {
     "end_time": "2019-05-01T19:26:20.376641Z",
     "start_time": "2019-05-01T19:26:20.363606Z"
    }
   },
   "outputs": [],
   "source": [
    "#Method to write graph file to the OS\n",
    "\n",
    "def write_graph(G,name):\n",
    "    nx.write_gexf(G,name)"
   ]
  },
  {
   "cell_type": "code",
   "execution_count": 10,
   "metadata": {
    "ExecuteTime": {
     "end_time": "2019-05-01T19:26:20.397733Z",
     "start_time": "2019-05-01T19:26:20.379649Z"
    }
   },
   "outputs": [],
   "source": [
    "# Method to identify weak nodes from the partitions\n",
    "# weak nodes are those which connect different communities\n",
    "# Returns list of weak nodes\n",
    "\n",
    "def getweaknode(G,partition) :\n",
    "    weak_nodes = []\n",
    "    for edge in G.edges():\n",
    "        if (partition.get(edge[0])!= partition.get(edge[1])): \n",
    "            weak_nodes.append(edge[0])\n",
    "            weak_nodes.append(edge[1])\n",
    "    return weak_nodes"
   ]
  },
  {
   "cell_type": "code",
   "execution_count": 11,
   "metadata": {
    "ExecuteTime": {
     "end_time": "2019-05-01T19:26:20.413752Z",
     "start_time": "2019-05-01T19:26:20.400713Z"
    }
   },
   "outputs": [],
   "source": [
    "# Method to identify top node from input graph\n",
    "# n : number of top nodes to be selected\n",
    "# Returns number of top nodes as required\n",
    "\n",
    "def gettopnodes(G,n,r=2.0):\n",
    "    part = getcommunities(G,r)\n",
    "    weak_nodes = getweaknode(G,part)  \n",
    "    subdict = {node: G.degree(node) for node in weak_nodes}\n",
    "    top=nlargest(n, subdict, key=subdict.get)\n",
    "    return top"
   ]
  },
  {
   "cell_type": "code",
   "execution_count": 12,
   "metadata": {
    "ExecuteTime": {
     "end_time": "2019-05-01T19:26:20.435810Z",
     "start_time": "2019-05-01T19:26:20.416761Z"
    }
   },
   "outputs": [],
   "source": [
    "# Method to identify unique nodes at geodesic distance =2 from selected node\n",
    "# returns count of unique nodes\n",
    "\n",
    "def getksquare(G,top):\n",
    "    nb = set()\n",
    "    [[[nb.add(m) for m in G.neighbors(n)] for n in G.neighbors(node)] for node in top]\n",
    "    colors = {n:177 if n in top else 114 if n in nb-set(top) else 110 for n in G.nodes()}\n",
    "    nx.set_node_attributes(G,colors,\"color\")\n",
    "    sizes = {n:30.00 if n in top else 20.00 if n in nb-set(top) else 10.00 for n in G.nodes()}\n",
    "    nx.set_node_attributes(G,sizes,\"size\")\n",
    "    return len(nb)"
   ]
  },
  {
   "cell_type": "code",
   "execution_count": 13,
   "metadata": {
    "ExecuteTime": {
     "end_time": "2019-05-01T19:26:20.450851Z",
     "start_time": "2019-05-01T19:26:20.437827Z"
    }
   },
   "outputs": [],
   "source": [
    "# Method to identify unique nodes at geodesic distance =1 from selected node\n",
    "# returns count of unique nodes\n",
    "\n",
    "def getknodes(G,top):\n",
    "    nb = set()\n",
    "    [[nb.add(n) for n in G.neighbors(node)] for node in top]\n",
    "    return len(nb)"
   ]
  },
  {
   "cell_type": "code",
   "execution_count": 14,
   "metadata": {
    "ExecuteTime": {
     "end_time": "2019-05-01T19:26:20.465904Z",
     "start_time": "2019-05-01T19:26:20.453867Z"
    }
   },
   "outputs": [],
   "source": [
    "# Method to select top nodes by betweenness value\n",
    "# n : number of top nodes to be selected\n",
    "# Returns list of weak nodes\n",
    "\n",
    "def topbetweennessnodes(G,n):\n",
    "    betweenness = getcentrality(G)\n",
    "    subdict = {node: betweenness[node] for node in G.nodes()}\n",
    "    top=nlargest(n, subdict, key=subdict.get)\n",
    "    return top"
   ]
  },
  {
   "cell_type": "code",
   "execution_count": 15,
   "metadata": {
    "ExecuteTime": {
     "end_time": "2019-05-01T19:26:20.482936Z",
     "start_time": "2019-05-01T19:26:20.468923Z"
    }
   },
   "outputs": [],
   "source": [
    "# Method for 2-sided statistic test\n",
    "# This compare 2 input arrays and based on t-stats and p-value prints better method\n",
    "\n",
    "def statstest(model1,model2):\n",
    "    (t_stat, p_value) = stats.ttest_rel(model1, model2)\n",
    "    if p_value > 0.05/2:  #Two sided \n",
    "        print('There is no significant difference between the two methods (Accept H0)\\n(t_stat, p_value) = (%.2f, %.9f)'%(t_stat, p_value))\n",
    "    else:\n",
    "        print('The two methods are different (reject H0) \\n(t_stat, p_value) = (%.2f, %.9f)'%(t_stat, p_value) )\n",
    "        if t_stat > 0.0: \n",
    "            print('Weak nodes method is better than Betweenness method')\n",
    "        else:\n",
    "            print('Betweenness method is better than Weak nodes method')"
   ]
  },
  {
   "cell_type": "code",
   "execution_count": 16,
   "metadata": {
    "ExecuteTime": {
     "end_time": "2019-05-01T19:26:20.500992Z",
     "start_time": "2019-05-01T19:26:20.485948Z"
    }
   },
   "outputs": [],
   "source": [
    "# Method to simulate configuration model in input graph degree sequence\n",
    "# This is also umberella method to run statistical test repetitively\n",
    "\n",
    "def configmodel(G,iter,topn):\n",
    "    degree_sequence = list(dict(nx.degree(G)).values())\n",
    "\n",
    "    # We need to generate enough null graphs to make a reasonable assessment of the null distribution\n",
    "    model = []\n",
    "    modelk = []\n",
    "    modelbetween = []\n",
    "    modelbetweenk = []\n",
    "    summary = []\n",
    "    for i in range(iter):\n",
    "        # Use the configuration model to create a null graph\n",
    "        null_graph = nx.configuration_model(degree_sequence)\n",
    "    \n",
    "        # We need to remove self-loops and parallel edges because they don't make\n",
    "        # sense in this social network\n",
    "        null_graph = nx.Graph(null_graph) # removes parallel edges\n",
    "        null_graph.remove_edges_from(null_graph.selfloop_edges()) # removes self-loops\n",
    "    \n",
    "        top = gettopnodes(null_graph,topn)\n",
    "        model.append(getksquare(null_graph,top))\n",
    "        modelk.append(getknodes(null_graph,top))\n",
    "        \n",
    "        # Calculate the model's assortativity and add it to the list\n",
    "        topbet = topbetweennessnodes(null_graph,topn)\n",
    "        modelbetween.append(getksquare(null_graph,topbet))\n",
    "        modelbetweenk.append(getknodes(null_graph,topbet))\n",
    "\n",
    "    statstest(model,modelbetween)\n",
    "    summary = [np.mean(model),np.mean(modelk),np.mean(modelbetween),np.mean(modelbetweenk)]\n",
    "    return summary"
   ]
  },
  {
   "cell_type": "code",
   "execution_count": 17,
   "metadata": {
    "ExecuteTime": {
     "end_time": "2019-05-01T19:26:21.361470Z",
     "start_time": "2019-05-01T19:26:20.504001Z"
    }
   },
   "outputs": [],
   "source": [
    "# Running both methods on sample size 500 and selecting top 5 nodes\n",
    "\n",
    "s= 500\n",
    "sample = getsample(tvshows,n=s)\n",
    "top = gettopnodes(sample,5)\n",
    "getksquare(sample,top)\n",
    "getknodes(sample,top)\n",
    "write_graph(sample,\"tvshows_sample_\"+str(s)+\"pptweakocc.gexf\")\n",
    "topbet = topbetweennessnodes(sample,5)\n",
    "getksquare(sample,topbet)\n",
    "getknodes(sample,topbet)\n",
    "write_graph(sample,\"tvshows_sample_\"+str(s)+\"pptbetocc.gexf\")"
   ]
  },
  {
   "cell_type": "code",
   "execution_count": 18,
   "metadata": {
    "ExecuteTime": {
     "end_time": "2019-05-01T19:26:24.778639Z",
     "start_time": "2019-05-01T19:26:21.364981Z"
    }
   },
   "outputs": [
    {
     "name": "stdout",
     "output_type": "stream",
     "text": [
      "-------------------- 5 --------------------\n",
      "-------------------- 10 --------------------\n",
      "-------------------- 15 --------------------\n",
      "-------------------- 20 --------------------\n"
     ]
    }
   ],
   "source": [
    "# Running both methods on sample size 500 and selecting top 5,10,15,20 nodes\n",
    "\n",
    "topn = [5,10,15,20]\n",
    "s= 500\n",
    "sample = getsample(tvshows,n=s)\n",
    "for t in topn :\n",
    "    print(\"--------------------\",t,\"--------------------\")\n",
    "    top = gettopnodes(sample,t)\n",
    "    getksquare(sample,top)\n",
    "    getknodes(sample,top)\n",
    "    topbet = topbetweennessnodes(sample,t)\n",
    "    getksquare(sample,topbet)\n",
    "    getknodes(sample,topbet)"
   ]
  },
  {
   "cell_type": "code",
   "execution_count": 19,
   "metadata": {
    "ExecuteTime": {
     "end_time": "2019-05-01T19:49:13.248552Z",
     "start_time": "2019-05-01T19:26:24.781165Z"
    }
   },
   "outputs": [
    {
     "name": "stdout",
     "output_type": "stream",
     "text": [
      "-------------------- 100 --------------------\n",
      "Name: \n",
      "Type: Graph\n",
      "Number of nodes: 104\n",
      "Number of edges: 187\n",
      "Average degree:   3.5962\n",
      "The two methods are different (reject H0) \n",
      "(t_stat, p_value) = (-5.63, 0.000000167)\n",
      "Betweenness method is better than Weak nodes method\n",
      "[78.81, 40.6, 80.82, 40.36]\n",
      "-------------------- 200 --------------------\n",
      "Name: \n",
      "Type: Graph\n",
      "Number of nodes: 201\n",
      "Number of edges: 363\n",
      "Average degree:   3.6119\n",
      "The two methods are different (reject H0) \n",
      "(t_stat, p_value) = (-5.80, 0.000000081)\n",
      "Betweenness method is better than Weak nodes method\n",
      "[117.3, 45.73, 120.54, 44.91]\n",
      "-------------------- 300 --------------------\n",
      "Name: \n",
      "Type: Graph\n",
      "Number of nodes: 301\n",
      "Number of edges: 505\n",
      "Average degree:   3.3555\n",
      "The two methods are different (reject H0) \n",
      "(t_stat, p_value) = (-6.44, 0.000000004)\n",
      "Betweenness method is better than Weak nodes method\n",
      "[144.62, 49.21, 150.62, 47.77]\n",
      "-------------------- 400 --------------------\n",
      "Name: \n",
      "Type: Graph\n",
      "Number of nodes: 404\n",
      "Number of edges: 856\n",
      "Average degree:   4.2376\n",
      "The two methods are different (reject H0) \n",
      "(t_stat, p_value) = (-5.90, 0.000000051)\n",
      "Betweenness method is better than Weak nodes method\n",
      "[229.66, 72.39, 233.96, 71.76]\n",
      "-------------------- 500 --------------------\n",
      "Name: \n",
      "Type: Graph\n",
      "Number of nodes: 502\n",
      "Number of edges: 1155\n",
      "Average degree:   4.6016\n",
      "The two methods are different (reject H0) \n",
      "(t_stat, p_value) = (-5.77, 0.000000090)\n",
      "Betweenness method is better than Weak nodes method\n",
      "[286.15, 82.79, 291.7, 82.38]\n",
      "-------------------- 600 --------------------\n",
      "Name: \n",
      "Type: Graph\n",
      "Number of nodes: 601\n",
      "Number of edges: 1340\n",
      "Average degree:   4.4592\n",
      "The two methods are different (reject H0) \n",
      "(t_stat, p_value) = (-8.37, 0.000000000)\n",
      "Betweenness method is better than Weak nodes method\n",
      "[304.57, 80.84, 314.61, 79.58]\n",
      "-------------------- 700 --------------------\n",
      "Name: \n",
      "Type: Graph\n",
      "Number of nodes: 702\n",
      "Number of edges: 1563\n",
      "Average degree:   4.4530\n",
      "The two methods are different (reject H0) \n",
      "(t_stat, p_value) = (-6.65, 0.000000002)\n",
      "Betweenness method is better than Weak nodes method\n",
      "[369.32, 100.51, 377.4, 98.9]\n",
      "-------------------- 800 --------------------\n",
      "Name: \n",
      "Type: Graph\n",
      "Number of nodes: 801\n",
      "Number of edges: 1920\n",
      "Average degree:   4.7940\n",
      "The two methods are different (reject H0) \n",
      "(t_stat, p_value) = (-6.51, 0.000000003)\n",
      "Betweenness method is better than Weak nodes method\n",
      "[427.68, 109.65, 436.84, 108.78]\n",
      "-------------------- 900 --------------------\n",
      "Name: \n",
      "Type: Graph\n",
      "Number of nodes: 902\n",
      "Number of edges: 2352\n",
      "Average degree:   5.2151\n",
      "The two methods are different (reject H0) \n",
      "(t_stat, p_value) = (-5.62, 0.000000179)\n",
      "Betweenness method is better than Weak nodes method\n",
      "[494.46, 117.89, 501.36, 116.65]\n",
      "-------------------- 1000 --------------------\n",
      "Name: \n",
      "Type: Graph\n",
      "Number of nodes: 1002\n",
      "Number of edges: 2462\n",
      "Average degree:   4.9142\n",
      "The two methods are different (reject H0) \n",
      "(t_stat, p_value) = (-7.04, 0.000000000)\n",
      "Betweenness method is better than Weak nodes method\n",
      "[490.58, 115.51, 499.77, 114.53]\n",
      "[[78.81, 40.6, 80.82, 40.36], [117.3, 45.73, 120.54, 44.91], [144.62, 49.21, 150.62, 47.77], [229.66, 72.39, 233.96, 71.76], [286.15, 82.79, 291.7, 82.38], [304.57, 80.84, 314.61, 79.58], [369.32, 100.51, 377.4, 98.9], [427.68, 109.65, 436.84, 108.78], [494.46, 117.89, 501.36, 116.65], [490.58, 115.51, 499.77, 114.53]]\n"
     ]
    }
   ],
   "source": [
    "# Running both methods on sample size 100 to 1000 and selecting top 5 nodes\n",
    "\n",
    "sample_size = [100,200,300,400,500,600,700,800,900,1000]\n",
    "summarylist = []\n",
    "for s in sample_size:\n",
    "    summary = []\n",
    "    print(\"--------------------\",s,\"--------------------\")\n",
    "    sample = getsample(tvshows,n=s)\n",
    "    print(nx.info(sample))\n",
    "    summary = configmodel(sample,100,5)\n",
    "    print(summary)\n",
    "    summarylist.append(summary)\n",
    "print(summarylist)"
   ]
  },
  {
   "cell_type": "code",
   "execution_count": 20,
   "metadata": {
    "ExecuteTime": {
     "end_time": "2019-05-01T19:49:13.342780Z",
     "start_time": "2019-05-01T19:49:13.252026Z"
    }
   },
   "outputs": [
    {
     "data": {
      "text/html": [
       "<div>\n",
       "<style scoped>\n",
       "    .dataframe tbody tr th:only-of-type {\n",
       "        vertical-align: middle;\n",
       "    }\n",
       "\n",
       "    .dataframe tbody tr th {\n",
       "        vertical-align: top;\n",
       "    }\n",
       "\n",
       "    .dataframe thead th {\n",
       "        text-align: right;\n",
       "    }\n",
       "</style>\n",
       "<table border=\"1\" class=\"dataframe\">\n",
       "  <thead>\n",
       "    <tr style=\"text-align: right;\">\n",
       "      <th></th>\n",
       "      <th>weaknode_k2</th>\n",
       "      <th>weaknode_k</th>\n",
       "      <th>betweenness_k2</th>\n",
       "      <th>betweenness_k</th>\n",
       "    </tr>\n",
       "  </thead>\n",
       "  <tbody>\n",
       "    <tr>\n",
       "      <th>0</th>\n",
       "      <td>78.81</td>\n",
       "      <td>40.60</td>\n",
       "      <td>80.82</td>\n",
       "      <td>40.36</td>\n",
       "    </tr>\n",
       "    <tr>\n",
       "      <th>1</th>\n",
       "      <td>117.30</td>\n",
       "      <td>45.73</td>\n",
       "      <td>120.54</td>\n",
       "      <td>44.91</td>\n",
       "    </tr>\n",
       "    <tr>\n",
       "      <th>2</th>\n",
       "      <td>144.62</td>\n",
       "      <td>49.21</td>\n",
       "      <td>150.62</td>\n",
       "      <td>47.77</td>\n",
       "    </tr>\n",
       "    <tr>\n",
       "      <th>3</th>\n",
       "      <td>229.66</td>\n",
       "      <td>72.39</td>\n",
       "      <td>233.96</td>\n",
       "      <td>71.76</td>\n",
       "    </tr>\n",
       "    <tr>\n",
       "      <th>4</th>\n",
       "      <td>286.15</td>\n",
       "      <td>82.79</td>\n",
       "      <td>291.70</td>\n",
       "      <td>82.38</td>\n",
       "    </tr>\n",
       "    <tr>\n",
       "      <th>5</th>\n",
       "      <td>304.57</td>\n",
       "      <td>80.84</td>\n",
       "      <td>314.61</td>\n",
       "      <td>79.58</td>\n",
       "    </tr>\n",
       "    <tr>\n",
       "      <th>6</th>\n",
       "      <td>369.32</td>\n",
       "      <td>100.51</td>\n",
       "      <td>377.40</td>\n",
       "      <td>98.90</td>\n",
       "    </tr>\n",
       "    <tr>\n",
       "      <th>7</th>\n",
       "      <td>427.68</td>\n",
       "      <td>109.65</td>\n",
       "      <td>436.84</td>\n",
       "      <td>108.78</td>\n",
       "    </tr>\n",
       "    <tr>\n",
       "      <th>8</th>\n",
       "      <td>494.46</td>\n",
       "      <td>117.89</td>\n",
       "      <td>501.36</td>\n",
       "      <td>116.65</td>\n",
       "    </tr>\n",
       "    <tr>\n",
       "      <th>9</th>\n",
       "      <td>490.58</td>\n",
       "      <td>115.51</td>\n",
       "      <td>499.77</td>\n",
       "      <td>114.53</td>\n",
       "    </tr>\n",
       "  </tbody>\n",
       "</table>\n",
       "</div>"
      ],
      "text/plain": [
       "   weaknode_k2  weaknode_k  betweenness_k2  betweenness_k\n",
       "0        78.81       40.60           80.82          40.36\n",
       "1       117.30       45.73          120.54          44.91\n",
       "2       144.62       49.21          150.62          47.77\n",
       "3       229.66       72.39          233.96          71.76\n",
       "4       286.15       82.79          291.70          82.38\n",
       "5       304.57       80.84          314.61          79.58\n",
       "6       369.32      100.51          377.40          98.90\n",
       "7       427.68      109.65          436.84         108.78\n",
       "8       494.46      117.89          501.36         116.65\n",
       "9       490.58      115.51          499.77         114.53"
      ]
     },
     "execution_count": 20,
     "metadata": {},
     "output_type": "execute_result"
    }
   ],
   "source": [
    "result = pd.DataFrame(data=summarylist, columns=[\"weaknode_k2\",\"weaknode_k\",\"betweenness_k2\",\"betweenness_k\"])\n",
    "result"
   ]
  },
  {
   "cell_type": "code",
   "execution_count": 21,
   "metadata": {
    "ExecuteTime": {
     "end_time": "2019-05-01T19:49:13.575530Z",
     "start_time": "2019-05-01T19:49:13.346794Z"
    }
   },
   "outputs": [
    {
     "data": {
      "text/plain": [
       "<matplotlib.legend.Legend at 0x15b118e1240>"
      ]
     },
     "execution_count": 21,
     "metadata": {},
     "output_type": "execute_result"
    },
    {
     "data": {
      "image/png": "[encoded data removed]",
      "text/plain": [
       "<Figure size 432x288 with 1 Axes>"
      ]
     },
     "metadata": {},
     "output_type": "display_data"
    }
   ],
   "source": [
    "plt.plot(sample_size,result[\"weaknode_k2\"])\n",
    "plt.plot(sample_size,result[\"betweenness_k2\"])\n",
    "\n",
    "plt.plot(sample_size,result[\"weaknode_k\"])\n",
    "plt.plot(sample_size,result[\"betweenness_k\"])\n",
    "\n",
    "plt.legend()"
   ]
  },
  {
   "cell_type": "code",
   "execution_count": 201,
   "metadata": {
    "ExecuteTime": {
     "end_time": "2019-04-10T08:13:09.979441Z",
     "start_time": "2019-04-10T04:44:54.065973Z"
    }
   },
   "outputs": [
    {
     "name": "stdout",
     "output_type": "stream",
     "text": [
      "-------------------- tvshows.graphml --------------------\n",
      "[1094, 1212]\n",
      "-------------------- politician.graphml --------------------\n",
      "[3197, 3277]\n",
      "-------------------- company.graphml --------------------\n",
      "[4830, 4773]\n",
      "-------------------- publicfigures.graphml --------------------\n",
      "[6583, 6583]\n",
      "-------------------- government.graphml --------------------\n",
      "[5040, 5039]\n",
      "-------------------- atheletes.graphml --------------------\n",
      "[7871, 7896]\n",
      "-------------------- newsites.graphml --------------------\n",
      "[14735, 15374]\n",
      "[[1094, 1212], [3197, 3277], [4830, 4773], [6583, 6583], [5040, 5039], [7871, 7896], [14735, 15374]]\n"
     ]
    }
   ],
   "source": [
    "# Running both methods on different networks in GEMSEC dataset\n",
    "\n",
    "graphs = [\"tvshows.graphml\",\"politician.graphml\",\"company.graphml\",\"publicfigures.graphml\",\"government.graphml\",\"atheletes.graphml\",\"newsites.graphml\"]\n",
    "resolutions = {\"tvshows.graphml\":2,\"politician.graphml\":2,\"company.graphml\":3,\"publicfigures.graphml\":2,\"government.graphml\":3,\"atheletes.graphml\":3,\"newsites.graphml\":1}\n",
    "\n",
    "result = []\n",
    "for gml in graphs:\n",
    "    print(\"--------------------\",gml,\"--------------------\")\n",
    "    counts = []\n",
    "    G = nx.read_graphml(gml)\n",
    "    G = nx.Graph(G)\n",
    "    print(nx.info(G))\n",
    "    communities5 = gettopnodes(G,5,r=resolutions[gml])\n",
    "    communitiescount = getksquare(G,communities5)\n",
    "    counts.append(communitiescount)\n",
    "    between5 = topbetweennessnodes(G,5)\n",
    "    betweencount = getksquare(G,between5)\n",
    "    counts.append(betweencount)\n",
    "    print(counts)\n",
    "    result.append(counts)\n",
    "print(result)"
   ]
  },
  {
   "cell_type": "code",
   "execution_count": 202,
   "metadata": {
    "ExecuteTime": {
     "end_time": "2019-04-10T11:34:56.604129Z",
     "start_time": "2019-04-10T11:34:56.595117Z"
    }
   },
   "outputs": [
    {
     "data": {
      "text/html": [
       "<div>\n",
       "<style scoped>\n",
       "    .dataframe tbody tr th:only-of-type {\n",
       "        vertical-align: middle;\n",
       "    }\n",
       "\n",
       "    .dataframe tbody tr th {\n",
       "        vertical-align: top;\n",
       "    }\n",
       "\n",
       "    .dataframe thead th {\n",
       "        text-align: right;\n",
       "    }\n",
       "</style>\n",
       "<table border=\"1\" class=\"dataframe\">\n",
       "  <thead>\n",
       "    <tr style=\"text-align: right;\">\n",
       "      <th></th>\n",
       "      <th>commk2</th>\n",
       "      <th>betk2</th>\n",
       "    </tr>\n",
       "  </thead>\n",
       "  <tbody>\n",
       "    <tr>\n",
       "      <th>0</th>\n",
       "      <td>1094</td>\n",
       "      <td>1212</td>\n",
       "    </tr>\n",
       "    <tr>\n",
       "      <th>1</th>\n",
       "      <td>3197</td>\n",
       "      <td>3277</td>\n",
       "    </tr>\n",
       "    <tr>\n",
       "      <th>2</th>\n",
       "      <td>4830</td>\n",
       "      <td>4773</td>\n",
       "    </tr>\n",
       "    <tr>\n",
       "      <th>3</th>\n",
       "      <td>6583</td>\n",
       "      <td>6583</td>\n",
       "    </tr>\n",
       "    <tr>\n",
       "      <th>4</th>\n",
       "      <td>5040</td>\n",
       "      <td>5039</td>\n",
       "    </tr>\n",
       "    <tr>\n",
       "      <th>5</th>\n",
       "      <td>7871</td>\n",
       "      <td>7896</td>\n",
       "    </tr>\n",
       "    <tr>\n",
       "      <th>6</th>\n",
       "      <td>14735</td>\n",
       "      <td>15374</td>\n",
       "    </tr>\n",
       "  </tbody>\n",
       "</table>\n",
       "</div>"
      ],
      "text/plain": [
       "   commk2  betk2\n",
       "0    1094   1212\n",
       "1    3197   3277\n",
       "2    4830   4773\n",
       "3    6583   6583\n",
       "4    5040   5039\n",
       "5    7871   7896\n",
       "6   14735  15374"
      ]
     },
     "execution_count": 202,
     "metadata": {},
     "output_type": "execute_result"
    }
   ],
   "source": [
    "resultdf = pd.DataFrame(data=result, columns=[\"weaknode_k2\",\"betweenness_k2\"],index=graphs)\n",
    "resultdf"
   ]
  },
  {
   "cell_type": "code",
   "execution_count": 203,
   "metadata": {
    "ExecuteTime": {
     "end_time": "2019-04-10T11:35:05.041503Z",
     "start_time": "2019-04-10T11:35:04.929205Z"
    }
   },
   "outputs": [
    {
     "data": {
      "text/plain": [
       "<matplotlib.legend.Legend at 0x1eb6522d780>"
      ]
     },
     "execution_count": 203,
     "metadata": {},
     "output_type": "execute_result"
    },
    {
     "data": {
      "image/png": "[encoded data removed]",
      "text/plain": [
       "<Figure size 432x288 with 1 Axes>"
      ]
     },
     "metadata": {},
     "output_type": "display_data"
    }
   ],
   "source": [
    "plt.scatter(graphs,resultdf[\"weaknode_k2\"])\n",
    "plt.scatter(graphs,resultdf[\"betweenness_k2\"])\n",
    "\n",
    "plt.legend()"
   ]
  },
  {
   "cell_type": "code",
   "execution_count": null,
   "metadata": {},
   "outputs": [],
   "source": []
  }
 ],
 "metadata": {
  "kernelspec": {
   "display_name": "Python 3",
   "language": "python",
   "name": "python3"
  },
  "language_info": {
   "codemirror_mode": {
    "name": "ipython",
    "version": 3
   },
   "file_extension": ".py",
   "mimetype": "text/x-python",
   "name": "python",
   "nbconvert_exporter": "python",
   "pygments_lexer": "ipython3",
   "version": "3.6.5"
  },
  "latex_envs": {
   "LaTeX_envs_menu_present": true,
   "autoclose": true,
   "autocomplete": true,
   "bibliofile": "biblio.bib",
   "cite_by": "apalike",
   "current_citInitial": 1,
   "eqLabelWithNumbers": true,
   "eqNumInitial": 1,
   "hotkeys": {
    "equation": "Ctrl-E",
    "itemize": "Ctrl-I"
   },
   "labels_anchors": false,
   "latex_user_defs": false,
   "report_style_numbering": false,
   "user_envs_cfg": true
  },
  "toc": {
   "base_numbering": 1,
   "nav_menu": {},
   "number_sections": true,
   "sideBar": true,
   "skip_h1_title": false,
   "title_cell": "Table of Contents",
   "title_sidebar": "Contents",
   "toc_cell": false,
   "toc_position": {},
   "toc_section_display": true,
   "toc_window_display": true
  },
  "varInspector": {
   "cols": {
    "lenName": 16,
    "lenType": 16,
    "lenVar": 40
   },
   "kernels_config": {
    "python": {
     "delete_cmd_postfix": "",
     "delete_cmd_prefix": "del ",
     "library": "var_list.py",
     "varRefreshCmd": "print(var_dic_list())"
    },
    "r": {
     "delete_cmd_postfix": ") ",
     "delete_cmd_prefix": "rm(",
     "library": "var_list.r",
     "varRefreshCmd": "cat(var_dic_list()) "
    }
   },
   "types_to_exclude": [
    "module",
    "function",
    "builtin_function_or_method",
    "instance",
    "_Feature"
   ],
   "window_display": false
  }
 },
 "nbformat": 4,
 "nbformat_minor": 2
}
